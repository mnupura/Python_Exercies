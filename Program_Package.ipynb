{
 "cells": [
  {
   "cell_type": "code",
   "execution_count": 6,
   "id": "potential-zimbabwe",
   "metadata": {},
   "outputs": [],
   "source": [
    "import My_Package\n",
    "from My_Package.Add_Pack import Add_Pack\n",
    "from My_Package.Subtract_Pack import Subtract_Pack"
   ]
  },
  {
   "cell_type": "code",
   "execution_count": 10,
   "id": "plain-possibility",
   "metadata": {},
   "outputs": [
    {
     "name": "stdout",
     "output_type": "stream",
     "text": [
      "I am in Add package.\n",
      "Addition: 9\n",
      "I am in Subtract package.\n",
      "Subtraction: 7\n"
     ]
    }
   ],
   "source": [
    "Add_Pack.add(5,4)\n",
    "Subtract_Pack.subtract(10,3)"
   ]
  },
  {
   "cell_type": "code",
   "execution_count": null,
   "id": "driving-information",
   "metadata": {},
   "outputs": [],
   "source": []
  }
 ],
 "metadata": {
  "kernelspec": {
   "display_name": "Python 3",
   "language": "python",
   "name": "python3"
  },
  "language_info": {
   "codemirror_mode": {
    "name": "ipython",
    "version": 3
   },
   "file_extension": ".py",
   "mimetype": "text/x-python",
   "name": "python",
   "nbconvert_exporter": "python",
   "pygments_lexer": "ipython3",
   "version": "3.8.5"
  }
 },
 "nbformat": 4,
 "nbformat_minor": 5
}
