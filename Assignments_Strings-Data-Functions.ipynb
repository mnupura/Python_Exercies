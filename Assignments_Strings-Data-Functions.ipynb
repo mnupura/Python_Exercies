{
 "cells": [
  {
   "cell_type": "code",
   "execution_count": 1,
   "id": "after-economy",
   "metadata": {},
   "outputs": [
    {
     "name": "stdout",
     "output_type": "stream",
     "text": [
      "r\n"
     ]
    }
   ],
   "source": [
    "#String indexing: Write a string index that returns the letter 'r' from 'Hello World'.\n",
    "string='Hello World!'\n",
    "print(string[8])"
   ]
  },
  {
   "cell_type": "code",
   "execution_count": 3,
   "id": "southeast-adolescent",
   "metadata": {},
   "outputs": [
    {
     "name": "stdout",
     "output_type": "stream",
     "text": [
      "ink\n"
     ]
    }
   ],
   "source": [
    "#String slicing: Use slicing to grab the word 'ink' from inside 'tinker' \n",
    "#(slicing go up to but not including the end index).\n",
    "string2='tinker'\n",
    "print(string2[1:4])"
   ]
  },
  {
   "cell_type": "code",
   "execution_count": 6,
   "id": "viral-belfast",
   "metadata": {},
   "outputs": [
    {
     "name": "stdout",
     "output_type": "stream",
     "text": [
      "Pattern 1:Python Rules!\n",
      "Pattern 2:Python Rules!\n",
      "Pattern 3:Python Rules!\n"
     ]
    }
   ],
   "source": [
    "#Print formatting: Write an expression using any of the string formatting methods 'Python rules!'\n",
    "string3='Python Rules!'\n",
    "print('Pattern 1:{}'.format(string3))\n",
    "print('Pattern 2:%s'%string3)\n",
    "print('Pattern 3:'+string3)"
   ]
  },
  {
   "cell_type": "code",
   "execution_count": 14,
   "id": "destroyed-alliance",
   "metadata": {},
   "outputs": [
    {
     "name": "stdout",
     "output_type": "stream",
     "text": [
      "{'s', 'M', 'i', 'p'}\n"
     ]
    }
   ],
   "source": [
    "#Sets: Write an expression that would turn the string 'Mississippi' into a set of unique letters\n",
    "string4='Mississippi'\n",
    "set_name=set(string4)\n",
    "print(set_name)"
   ]
  },
  {
   "cell_type": "code",
   "execution_count": 18,
   "id": "adopted-review",
   "metadata": {},
   "outputs": [
    {
     "name": "stdout",
     "output_type": "stream",
     "text": [
      "Result:True\n",
      "Result:False\n"
     ]
    }
   ],
   "source": [
    "#Function: Define a funct called is_Even that takes in one argument and returns true \n",
    "#if the passed value is even and false if its not.\n",
    "def is_Even(num):\n",
    "    if num%2==0:\n",
    "        return True\n",
    "    else:\n",
    "        return False\n",
    "num=4\n",
    "print('Result:{}'.format(is_Even(num)))\n",
    "num=7\n",
    "print('Result:{}'.format(is_Even(num)))"
   ]
  },
  {
   "cell_type": "code",
   "execution_count": 20,
   "id": "attended-spyware",
   "metadata": {},
   "outputs": [
    {
     "name": "stdout",
     "output_type": "stream",
     "text": [
      "Number 1 is less than or equal to the Number 2\n"
     ]
    }
   ],
   "source": [
    "#Function: Define a funct called is_greater that takes in 2 arguments and \n",
    "#returns True if first value is greater than the second, \n",
    "#false if it is less than or equal to the second.\n",
    "def is_greater(num1,num2):\n",
    "    if num1>num2:\n",
    "        return True\n",
    "    else:\n",
    "        return False\n",
    "\n",
    "result=is_greater(1,7)\n",
    "if result==True:\n",
    "    print('Number 1 is greater than Number 2')\n",
    "else:\n",
    "    print('Number 1 is less than or equal to the Number 2')"
   ]
  },
  {
   "cell_type": "code",
   "execution_count": 31,
   "id": "significant-tucson",
   "metadata": {},
   "outputs": [
    {
     "name": "stdout",
     "output_type": "stream",
     "text": [
      "Sum:9\n"
     ]
    }
   ],
   "source": [
    "#*args: Define a funct called myfunc that takes in an arbitarary number of arguments and returns the sum. \n",
    "def myfunc(*args):\n",
    "    sum=0\n",
    "    num=0\n",
    "    while num<len(args):\n",
    "        sum=sum+args[num]\n",
    "        num+=1\n",
    "    return sum\n",
    "\n",
    "print('Sum:{}'.format(myfunc(2,3,4)))"
   ]
  },
  {
   "cell_type": "code",
   "execution_count": 38,
   "id": "invalid-applicant",
   "metadata": {},
   "outputs": [
    {
     "ename": "IndexError",
     "evalue": "list assignment index out of range",
     "output_type": "error",
     "traceback": [
      "\u001b[1;31m---------------------------------------------------------------------------\u001b[0m",
      "\u001b[1;31mIndexError\u001b[0m                                Traceback (most recent call last)",
      "\u001b[1;32m<ipython-input-38-d2e8b3c49724>\u001b[0m in \u001b[0;36m<module>\u001b[1;34m\u001b[0m\n\u001b[0;32m     16\u001b[0m \u001b[1;33m\u001b[0m\u001b[0m\n\u001b[0;32m     17\u001b[0m \u001b[0msky_str\u001b[0m\u001b[1;33m=\u001b[0m\u001b[1;34m'nupura'\u001b[0m\u001b[1;33m\u001b[0m\u001b[1;33m\u001b[0m\u001b[0m\n\u001b[1;32m---> 18\u001b[1;33m \u001b[0mprint\u001b[0m\u001b[1;33m(\u001b[0m\u001b[0mmyfunc_skyline\u001b[0m\u001b[1;33m(\u001b[0m\u001b[0msky_str\u001b[0m\u001b[1;33m)\u001b[0m\u001b[1;33m)\u001b[0m\u001b[1;33m\u001b[0m\u001b[1;33m\u001b[0m\u001b[0m\n\u001b[0m",
      "\u001b[1;32m<ipython-input-38-d2e8b3c49724>\u001b[0m in \u001b[0;36mmyfunc_skyline\u001b[1;34m(skyline)\u001b[0m\n\u001b[0;32m      6\u001b[0m     \u001b[0mnew_str\u001b[0m\u001b[1;33m=\u001b[0m\u001b[1;33m[\u001b[0m\u001b[1;33m]\u001b[0m\u001b[1;33m\u001b[0m\u001b[1;33m\u001b[0m\u001b[0m\n\u001b[0;32m      7\u001b[0m     \u001b[1;31m#skyline[0].upper())\u001b[0m\u001b[1;33m\u001b[0m\u001b[1;33m\u001b[0m\u001b[1;33m\u001b[0m\u001b[0m\n\u001b[1;32m----> 8\u001b[1;33m     \u001b[0mnew_str\u001b[0m\u001b[1;33m[\u001b[0m\u001b[1;36m0\u001b[0m\u001b[1;33m]\u001b[0m\u001b[1;33m=\u001b[0m\u001b[0mskyline\u001b[0m\u001b[1;33m[\u001b[0m\u001b[1;36m0\u001b[0m\u001b[1;33m]\u001b[0m\u001b[1;33m.\u001b[0m\u001b[0mupper\u001b[0m\u001b[1;33m(\u001b[0m\u001b[1;33m)\u001b[0m\u001b[1;33m\u001b[0m\u001b[1;33m\u001b[0m\u001b[0m\n\u001b[0m\u001b[0;32m      9\u001b[0m     \u001b[0mprint\u001b[0m\u001b[1;33m(\u001b[0m\u001b[0mnew_str\u001b[0m\u001b[1;33m[\u001b[0m\u001b[1;36m0\u001b[0m\u001b[1;33m]\u001b[0m\u001b[1;33m)\u001b[0m\u001b[1;33m\u001b[0m\u001b[1;33m\u001b[0m\u001b[0m\n\u001b[0;32m     10\u001b[0m     \u001b[1;32mwhile\u001b[0m \u001b[0mnum\u001b[0m\u001b[1;33m<\u001b[0m\u001b[0mlen\u001b[0m\u001b[1;33m(\u001b[0m\u001b[0mskyline\u001b[0m\u001b[1;33m)\u001b[0m\u001b[1;33m:\u001b[0m\u001b[1;33m\u001b[0m\u001b[1;33m\u001b[0m\u001b[0m\n",
      "\u001b[1;31mIndexError\u001b[0m: list assignment index out of range"
     ]
    }
   ],
   "source": [
    "#skyline:Define a funct called myfunc that takes in a string, and returns a matching \n",
    "#string where every even letter is uppercase, and every odd letter is lowercase. \n",
    "#Assume that incoming string can start with either an upper or lower case letter.\n",
    "def myfunc_skyline(skyline):\n",
    "    num=1\n",
    "    new_str=[]\n",
    "    #skyline[0].upper())\n",
    "    new_str[0]=skyline[0].upper()\n",
    "    print(new_str[0])\n",
    "    while num<len(skyline):\n",
    "        if num%2==0:\n",
    "            new_str.append(num_str[num].upper())\n",
    "        else:\n",
    "            new_str.append(num_str[num].lower())\n",
    "    return new_str\n",
    "\n",
    "sky_str='nupura'\n",
    "print(myfunc_skyline(sky_str))"
   ]
  },
  {
   "cell_type": "code",
   "execution_count": null,
   "id": "educational-hundred",
   "metadata": {},
   "outputs": [],
   "source": []
  }
 ],
 "metadata": {
  "kernelspec": {
   "display_name": "Python 3",
   "language": "python",
   "name": "python3"
  },
  "language_info": {
   "codemirror_mode": {
    "name": "ipython",
    "version": 3
   },
   "file_extension": ".py",
   "mimetype": "text/x-python",
   "name": "python",
   "nbconvert_exporter": "python",
   "pygments_lexer": "ipython3",
   "version": "3.8.5"
  }
 },
 "nbformat": 4,
 "nbformat_minor": 5
}
