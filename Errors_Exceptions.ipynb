{
 "cells": [
  {
   "cell_type": "code",
   "execution_count": 3,
   "id": "affecting-trailer",
   "metadata": {},
   "outputs": [
    {
     "name": "stdout",
     "output_type": "stream",
     "text": [
      "This code is having \"TypeError\"\n"
     ]
    }
   ],
   "source": [
    "#Assignment 1: Handle the exception thrown by the code below by using try and except blocks.\n",
    "try:\n",
    "    for i in ['a','b','c']:\n",
    "        print(i**2)\n",
    "except TypeError:\n",
    "    print('This code is having \"TypeError\"')"
   ]
  },
  {
   "cell_type": "code",
   "execution_count": 7,
   "id": "vulnerable-school",
   "metadata": {},
   "outputs": [
    {
     "name": "stdout",
     "output_type": "stream",
     "text": [
      "This code is having \"ZeroDivisionError\"\n",
      "All done\n"
     ]
    }
   ],
   "source": [
    "#Assignment 2: Handle the exception thrown by the code below by using try and except blocks. \n",
    "#Then use a finally block to print 'All done'\n",
    "try:\n",
    "    x=5\n",
    "    y=0\n",
    "    z=x/y\n",
    "except ZeroDivisionError:\n",
    "    print('This code is having \"ZeroDivisionError\"')\n",
    "finally:\n",
    "    print('All done')"
   ]
  },
  {
   "cell_type": "code",
   "execution_count": 24,
   "id": "worse-chicago",
   "metadata": {},
   "outputs": [
    {
     "name": "stdout",
     "output_type": "stream",
     "text": [
      "Enter number: m\n",
      "Number is non numeric!\n"
     ]
    }
   ],
   "source": [
    "#Assignment 3: Write a function that asks for an integer and prints the square of it. \n",
    "#use a while loop with a try,except,else block to account for incorrect inputs.\n",
    "\n",
    "try:\n",
    "    num=int(input('Enter number: '))\n",
    "    num_square=num**2\n",
    "    print('Square:{}'.format(num_square))\n",
    "except:\n",
    "    print('Number is non numeric!')\n",
    "else:\n",
    "    print('Number is numeric.')"
   ]
  }
 ],
 "metadata": {
  "kernelspec": {
   "display_name": "Python 3",
   "language": "python",
   "name": "python3"
  },
  "language_info": {
   "codemirror_mode": {
    "name": "ipython",
    "version": 3
   },
   "file_extension": ".py",
   "mimetype": "text/x-python",
   "name": "python",
   "nbconvert_exporter": "python",
   "pygments_lexer": "ipython3",
   "version": "3.8.5"
  }
 },
 "nbformat": 4,
 "nbformat_minor": 5
}
